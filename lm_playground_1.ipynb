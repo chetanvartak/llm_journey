{
  "cells": [
    {
      "cell_type": "markdown",
      "metadata": {
        "id": "view-in-github",
        "colab_type": "text"
      },
      "source": [
        "<a href=\"https://colab.research.google.com/github/chetanvartak/llm_journey/blob/main/Copy_of_lm_playground.ipynb\" target=\"_parent\"><img src=\"https://colab.research.google.com/assets/colab-badge.svg\" alt=\"Open In Colab\"/></a>"
      ]
    },
    {
      "cell_type": "markdown",
      "id": "fe523821",
      "metadata": {
        "id": "fe523821"
      },
      "source": [
        "\n",
        "# Project 1: Build an LLM Playground\n",
        "\n",
        "Welcome! In this project, you’ll learn foundations of large language models (LLMs). We’ll keep the code minimal and the explanations high‑level so that anyone who can run a Python cell can follow along.  \n",
        "\n",
        "We'll be using Google Colab for this project. Colab is a free, browser-based platform that lets you run Python code and machine learning models without installing anything on your local computer. Click the button below to open this notebook directly in Google Colab and get started!\n"
      ]
    },
    {
      "cell_type": "markdown",
      "id": "fdb8584e",
      "metadata": {
        "id": "fdb8584e"
      },
      "source": [
        "[![Open In Colab](https://colab.research.google.com/assets/colab-badge.svg)](https://colab.research.google.com/github/bytebyteai/ai-eng-projects/blob/main/project_1/lm_playground.ipynb)"
      ]
    },
    {
      "cell_type": "markdown",
      "id": "08e82492",
      "metadata": {
        "id": "08e82492"
      },
      "source": [
        "---\n",
        "## Learning Objectives  \n",
        "* **Tokenization** and how raw text is tokenized into a sequene of discrete tokens\n",
        "* Inspect **GPT2** and **Transformer architecture**\n",
        "* Loading pre-trained LLMs using **Hugging Face**\n",
        "* **Decoding strategies** to generate text from LLMs\n",
        "* Completion versus **intrusction fine-tuned** LLMs\n",
        "\n",
        "\n",
        "Let's get started!"
      ]
    },
    {
      "cell_type": "code",
      "execution_count": null,
      "id": "1235110e",
      "metadata": {
        "colab": {
          "base_uri": "https://localhost:8080/"
        },
        "id": "1235110e",
        "outputId": "d8d0602d-f4ad-451e-c305-73e3dda359e6"
      },
      "outputs": [
        {
          "output_type": "stream",
          "name": "stdout",
          "text": [
            "torch 2.8.0+cu126 | transformers 4.56.2\n"
          ]
        }
      ],
      "source": [
        "import torch, transformers, tiktoken\n",
        "print(\"torch\", torch.__version__, \"| transformers\", transformers.__version__)"
      ]
    },
    {
      "cell_type": "markdown",
      "id": "d4c1eb0b",
      "metadata": {
        "id": "d4c1eb0b"
      },
      "source": [
        "# 1 - Tokenization\n",
        "\n",
        "A neural network can’t digest raw text. They need **numbers**. Tokenization is the process of converting text into IDs. In this section, you'll learn how tokenization is implemented in practice.\n",
        "\n",
        "Tokenization methods generally fall into three categories:\n",
        "1. Word-level\n",
        "2. Character-level\n",
        "3. Subword-level"
      ]
    },
    {
      "cell_type": "markdown",
      "id": "1d234dc0",
      "metadata": {
        "id": "1d234dc0"
      },
      "source": [
        "### 1.1 - Word‑level tokenization\n",
        "\n",
        "Split text on whitespace and store each **word** as a token."
      ]
    },
    {
      "cell_type": "code",
      "execution_count": null,
      "id": "d784a288",
      "metadata": {
        "colab": {
          "base_uri": "https://localhost:8080/"
        },
        "id": "d784a288",
        "outputId": "84fb04bb-ead5-4b14-e07b-0cf2527458ca"
      },
      "outputs": [
        {
          "output_type": "stream",
          "name": "stdout",
          "text": [
            "Vocabulary size: 20 words\n",
            "First 15 vocab entries: ['The', 'quick', 'brown', 'fox', 'jumps', 'over', 'the', 'lazy', 'dog', 'Tokenization', 'converts', 'text', 'to', 'numbers', 'Large']\n",
            "\n",
            "Input text : The brown unicorn jumps\n",
            "Token IDs  : [0, 2, '[UNK]', 4]\n",
            "Decoded    : ['The', 'brown', '[UNK]', 'jumps']\n"
          ]
        }
      ],
      "source": [
        "# 1. Tiny corpus\n",
        "corpus = [\n",
        "    \"The quick brown fox jumps over the lazy dog\",\n",
        "    \"Tokenization converts text to numbers\",\n",
        "    \"Large language models predict the next token\"\n",
        "]\n",
        "\n",
        "# 2. Build the vocabulary\n",
        "PAD, UNK = \"[PAD]\", \"[UNK]\"\n",
        "vocab = []\n",
        "word2id = {}\n",
        "id2word = {}\n",
        "\n",
        "word_key = 0\n",
        "for item in corpus:\n",
        "  for word in item.split():\n",
        "    if word not in word2id:\n",
        "      word2id[word] = word_key\n",
        "      id2word[word_key] = word\n",
        "    word_key += 1\n",
        "\n",
        "vocab = list(word2id.keys())\n",
        "\n",
        "print(f\"Vocabulary size: {len(vocab)} words\")\n",
        "print(\"First 15 vocab entries:\", vocab[:15])\n",
        "\n",
        "# 3. Encode / decode\n",
        "def encode(text):\n",
        "  ids = []\n",
        "  for word in text.split():\n",
        "    ids.append(word2id.get(word, UNK))\n",
        "  return ids\n",
        "\n",
        "def decode(ids):\n",
        "  words = []\n",
        "  for id in ids:\n",
        "    words.append(id2word.get(id, UNK))\n",
        "  return words\n",
        "\n",
        "# 4. Demo\n",
        "sample = \"The brown unicorn jumps\"\n",
        "ids = encode(sample)\n",
        "recovered = decode(ids)\n",
        "\n",
        "print(\"\\nInput text :\", sample)\n",
        "print(\"Token IDs  :\", ids)\n",
        "print(\"Decoded    :\", recovered)"
      ]
    },
    {
      "cell_type": "markdown",
      "id": "0edab2c2",
      "metadata": {
        "id": "0edab2c2"
      },
      "source": [
        "Word-level tokenization has two major limitations:\n",
        "1. Large vocabulary size\n",
        "2. Out-of-vocabulary (OOV) issue"
      ]
    },
    {
      "cell_type": "markdown",
      "id": "a379bac7",
      "metadata": {
        "id": "a379bac7"
      },
      "source": [
        "### 1.2 - Character‑level tokenization\n",
        "\n",
        "Every single character (including spaces and emojis) gets its own ID. This guarantees zero out‑of‑vocabulary issues but very long sequences."
      ]
    },
    {
      "cell_type": "code",
      "execution_count": null,
      "id": "4ac29144",
      "metadata": {
        "colab": {
          "base_uri": "https://localhost:8080/"
        },
        "id": "4ac29144",
        "outputId": "3e1089c0-31aa-4d5b-ffc9-abaa355e686c"
      },
      "outputs": [
        {
          "output_type": "stream",
          "name": "stdout",
          "text": [
            "Vocabulary size: 29 (52 letters + 2 specials)\n",
            "\n",
            "Input text : Hello\n",
            "Token IDs  : ['[UNK]', 2, 35, 35, 12]\n",
            "Decoded    : ['[UNK]', 'e', 'l', 'l', 'o']\n"
          ]
        }
      ],
      "source": [
        "# 1. Build a fixed vocabulary # a–z + A–Z + padding + unkwown\n",
        "import string\n",
        "\n",
        "vocab = []\n",
        "char2id = {}\n",
        "id2char = {}\n",
        "\n",
        "char_key = 0\n",
        "for item in corpus:\n",
        "  for char in item:\n",
        "    if char not in char2id:\n",
        "      char2id[char] = char_key\n",
        "      id2char[char_key] = char\n",
        "    char_key += 1\n",
        "\n",
        "vocab = list(char2id.keys())\n",
        "\n",
        "print(f\"Vocabulary size: {len(vocab)} (52 letters + 2 specials)\")\n",
        "\n",
        "# 2. Encode / decode\n",
        "def encode(text):\n",
        "  ids = []\n",
        "  for char in text:\n",
        "    ids.append(char2id.get(char, UNK))\n",
        "  return ids\n",
        "\n",
        "def decode(ids):\n",
        "  chars = []\n",
        "  for id in ids:\n",
        "    chars.append(id2char.get(id, UNK))\n",
        "  return chars\n",
        "\n",
        "# 3. Demo\n",
        "sample = \"Hello\"\n",
        "ids = encode(sample)\n",
        "recovered = decode(ids)\n",
        "\n",
        "print(\"\\nInput text :\", sample)\n",
        "print(\"Token IDs  :\", ids)\n",
        "print(\"Decoded    :\", recovered)\n"
      ]
    },
    {
      "cell_type": "markdown",
      "id": "391275bd",
      "metadata": {
        "id": "391275bd"
      },
      "source": [
        "### 1.3 - Subword‑level tokenization\n",
        "\n",
        "Sub-word methods such as `Byte-Pair Encoding (BPE)`, `WordPiece`, and `SentencePiece` **learn** the most common character and gorup them into new tokens. For example, the word `unbelievable` might turn into three tokens: `[\"un\", \"believ\", \"able\"]`. This approach strikes a balance between word-level and character-level methods and fix their limitations.\n",
        "\n",
        "For example, `BPE` algorithm forms the vocabulary using the following steps:\n",
        "1. **Start with bytes** → every character is its own token.  \n",
        "2. **Count all adjacent pairs** in a huge corpus.  \n",
        "3. **Merge the most frequent pair** into a new token.  \n",
        "   *Repeat steps 2-3* until you hit the target vocab size (e.g., 50 k).\n",
        "\n",
        "Let's see `BPE` in practice."
      ]
    },
    {
      "cell_type": "code",
      "execution_count": null,
      "id": "4675e67a",
      "metadata": {
        "id": "4675e67a",
        "colab": {
          "base_uri": "https://localhost:8080/"
        },
        "outputId": "762612e6-fedb-40e6-9d6b-60b50b3669da"
      },
      "outputs": [
        {
          "output_type": "stream",
          "name": "stdout",
          "text": [
            "GPT2TokenizerFast(name_or_path='gpt2', vocab_size=50257, model_max_length=1024, is_fast=True, padding_side='right', truncation_side='right', special_tokens={'bos_token': '<|endoftext|>', 'eos_token': '<|endoftext|>', 'unk_token': '<|endoftext|>'}, clean_up_tokenization_spaces=False, added_tokens_decoder={\n",
            "\t50256: AddedToken(\"<|endoftext|>\", rstrip=False, lstrip=False, single_word=False, normalized=True, special=True),\n",
            "}\n",
            ")\n",
            "50257\n",
            " 5000 -> 'Ġentirely'\n",
            " 5001 -> 'Ġpurchase'\n",
            " 5002 -> 'Ġelement'\n",
            " 5003 -> 'Ġcash'\n",
            " 5004 -> 'Ġdetermine'\n",
            " 5005 -> 'De'\n",
            " 5006 -> 'Ġcars'\n",
            " 5007 -> 'ĠWall'\n",
            " 5008 -> 'âĸ'\n",
            " 5009 -> 'Ġviews'\n",
            "['Un', 'bel', 'iev', 'able', 'Ġtoken', 'ization', 'Ġpowers', '!', 'ĠðŁ', 'ļ', 'Ģ']\n",
            "[3118, 6667, 11203, 540, 11241, 1634, 5635, 0, 12520, 248, 222]\n",
            "\n",
            "Input text : Unbelievable tokenization powers! 🚀\n",
            "Token IDs  : [3118, 6667, 11203, 540, 11241, 1634, 5635, 0, 12520, 248, 222]\n",
            "Tokens     : ['Un', 'bel', 'iev', 'able', 'Ġtoken', 'ization', 'Ġpowers', '!', 'ĠðŁ', 'ļ', 'Ģ']\n",
            "Decoded    : Unbelievable tokenization powers! 🚀\n"
          ]
        }
      ],
      "source": [
        "# 1. Load a pretrained BPE tokenizer (GPT-2 uses BPE).\n",
        "# Refer to  https://huggingface.co/docs/transformers/en/fast_tokenizers\n",
        "\n",
        "from transformers import AutoTokenizer\n",
        "bpe_tok = AutoTokenizer.from_pretrained(\"gpt2\")\n",
        "print(bpe_tok)\n",
        "print(bpe_tok.vocab_size)\n",
        "vocab_dict = bpe_tok.get_vocab()\n",
        "\n",
        "# Sort the vocabulary items by token ID and get the first 100\n",
        "first_100_tokens = sorted(vocab_dict.items(), key=lambda item: item[1])[5000:5010]\n",
        "\n",
        "# Print the tokens and their IDs\n",
        "for token, token_id in first_100_tokens:\n",
        "    print(f\"{token_id:5} -> '{token}'\")\n",
        "\n",
        "# 2. Encode / decode\n",
        "def encode(text):\n",
        "    tokens = bpe_tok.tokenize(text)\n",
        "    print(tokens)\n",
        "    print(bpe_tok.convert_tokens_to_ids(tokens))\n",
        "    return bpe_tok.convert_tokens_to_ids(tokens)\n",
        "\n",
        "def decode(ids):\n",
        "  return bpe_tok.decode(ids)\n",
        "\n",
        "# 3. Demo\n",
        "sample = \"Unbelievable tokenization powers! 🚀\"\n",
        "ids = encode(sample)\n",
        "recovered = decode(ids)\n",
        "\n",
        "print(\"\\nInput text :\", sample)\n",
        "print(\"Token IDs  :\", ids)\n",
        "print(\"Tokens     :\", bpe_tok.convert_ids_to_tokens(ids))\n",
        "print(\"Decoded    :\", recovered)\n"
      ]
    },
    {
      "cell_type": "markdown",
      "id": "badaa5a8",
      "metadata": {
        "id": "badaa5a8"
      },
      "source": [
        "### 1.4 - TikToken\n",
        "\n",
        "`tiktoken` is a production-ready library which offers high‑speed tokenization used by OpenAI models.  \n",
        "Let's compare the older **gpt2** encoding with the newer **cl100k_base** used in GPT‑4."
      ]
    },
    {
      "cell_type": "code",
      "execution_count": null,
      "id": "7704c470",
      "metadata": {
        "id": "7704c470",
        "colab": {
          "base_uri": "https://localhost:8080/"
        },
        "outputId": "12473905-43f7-4028-93e1-d0dcd85a36be"
      },
      "outputs": [
        {
          "output_type": "stream",
          "name": "stdout",
          "text": [
            "<Encoding 'gpt2'>\n",
            "50257\n",
            "[464, 12520, 234, 253, 3491, 12, 7829, 7781, 2319, 2173, 0]\n",
            "The 🌟 star-player scored 40 points!\n",
            "<Encoding 'cl100k_base'>\n",
            "100277\n",
            "[791, 11410, 234, 253, 6917, 43467, 16957, 220, 1272, 3585, 0]\n",
            "The 🌟 star-player scored 40 points!\n",
            "<Encoding 'o200k_base'>\n",
            "200019\n",
            "[976, 130321, 253, 8253, 92135, 27207, 220, 1723, 5571, 0]\n",
            "The 🌟 star-player scored 40 points!\n",
            "<Encoding 'cl100k_base'>\n",
            "100277\n",
            "[791, 11410, 234, 253, 6917, 43467, 16957, 220, 1272, 3585, 0]\n",
            "The 🌟 star-player scored 40 points!\n"
          ]
        }
      ],
      "source": [
        "# Use gpt2 and cl100k_base to encode and decode the following text\n",
        "# Refer to https://github.com/openai/tiktoken\n",
        "import tiktoken\n",
        "sentence = \"The 🌟 star-player scored 40 points!\"\n",
        "tokenizer = tiktoken.encoding_for_model(\"gpt2\")\n",
        "print(tokenizer)\n",
        "print(tokenizer.n_vocab)\n",
        "\n",
        "tokens = tokenizer.encode(sentence)\n",
        "print(tokens)\n",
        "\n",
        "print(tokenizer.decode(tokens))\n",
        "\n",
        "tokenizer = tiktoken.encoding_for_model(\"gpt-3.5\")\n",
        "tokens = tokenizer.encode(sentence)\n",
        "print(tokenizer)\n",
        "print(tokenizer.n_vocab)\n",
        "print(tokens)\n",
        "\n",
        "print(tokenizer.decode(tokens))\n",
        "\n",
        "tokenizer = tiktoken.encoding_for_model(\"gpt-4o\")\n",
        "tokens = tokenizer.encode(sentence)\n",
        "print(tokenizer)\n",
        "print(tokenizer.n_vocab)\n",
        "print(tokens)\n",
        "\n",
        "print(tokenizer.decode(tokens))\n",
        "\n",
        "tokenizer = tiktoken.get_encoding(\"cl100k_base\")\n",
        "tokens = tokenizer.encode(sentence)\n",
        "print(tokenizer)\n",
        "print(tokenizer.n_vocab)\n",
        "print(tokens)\n",
        "\n",
        "print(tokenizer.decode(tokens))"
      ]
    },
    {
      "cell_type": "markdown",
      "source": [
        "BPE_Implementation Sample"
      ],
      "metadata": {
        "id": "20PYU2Am9ybH"
      },
      "id": "20PYU2Am9ybH"
    },
    {
      "cell_type": "code",
      "source": [
        "def simple_bpe_demo():\n",
        "    \"\"\"Minimal BPE demonstration\"\"\"\n",
        "    # Training data\n",
        "    words = {\"l o w </w>\": 5, \"l o w e r </w>\": 2, \"n e w e s t </w>\": 6, \"w i d e s t </w>\": 3, \"n e w e r </w>\": 17}\n",
        "\n",
        "    print(\"Initial vocabulary (character level):\")\n",
        "    for word, freq in words.items():\n",
        "        print(f\"  {word}: {freq}\")\n",
        "\n",
        "    # Perform 5 merges\n",
        "    for merge_step in range(20):\n",
        "        # Count all pairs\n",
        "        pairs = defaultdict(int)\n",
        "        for word, freq in words.items():\n",
        "            symbols = word.split()\n",
        "            for i in range(len(symbols) - 1):\n",
        "                pairs[(symbols[i], symbols[i+1])] += freq\n",
        "\n",
        "        if not pairs:\n",
        "            break\n",
        "\n",
        "        # Find most frequent pair\n",
        "        best_pair = max(pairs, key=pairs.get)\n",
        "\n",
        "        # Merge this pair everywhere\n",
        "        new_words = {}\n",
        "        bigram = ' '.join(best_pair)\n",
        "        replacement = ''.join(best_pair)\n",
        "\n",
        "        for word, freq in words.items():\n",
        "            new_word = word.replace(bigram, replacement)\n",
        "            new_words[new_word] = freq\n",
        "\n",
        "        words = new_words\n",
        "        print(f\"\\nMerge {merge_step + 1}: Merged {best_pair} -> '{replacement}'\")\n",
        "        print(\"Current vocabulary:\")\n",
        "        for word, freq in words.items():\n",
        "            print(f\"  {word}: {freq}\")\n",
        "\n",
        "# Run the demo\n",
        "simple_bpe_demo()"
      ],
      "metadata": {
        "colab": {
          "base_uri": "https://localhost:8080/"
        },
        "id": "UlE2gGtA9tGO",
        "outputId": "5b27b4c7-ef00-4432-977b-b5325ab13523"
      },
      "id": "UlE2gGtA9tGO",
      "execution_count": null,
      "outputs": [
        {
          "output_type": "stream",
          "name": "stdout",
          "text": [
            "Initial vocabulary (character level):\n",
            "  l o w </w>: 5\n",
            "  l o w e r </w>: 2\n",
            "  n e w e s t </w>: 6\n",
            "  w i d e s t </w>: 3\n",
            "  n e w e r </w>: 17\n",
            "\n",
            "Merge 1: Merged ('w', 'e') -> 'we'\n",
            "Current vocabulary:\n",
            "  l o w </w>: 5\n",
            "  l o we r </w>: 2\n",
            "  n e we s t </w>: 6\n",
            "  w i d e s t </w>: 3\n",
            "  n e we r </w>: 17\n",
            "\n",
            "Merge 2: Merged ('n', 'e') -> 'ne'\n",
            "Current vocabulary:\n",
            "  l o w </w>: 5\n",
            "  l o we r </w>: 2\n",
            "  ne we s t </w>: 6\n",
            "  w i d e s t </w>: 3\n",
            "  ne we r </w>: 17\n",
            "\n",
            "Merge 3: Merged ('ne', 'we') -> 'newe'\n",
            "Current vocabulary:\n",
            "  l o w </w>: 5\n",
            "  l o we r </w>: 2\n",
            "  newe s t </w>: 6\n",
            "  w i d e s t </w>: 3\n",
            "  newe r </w>: 17\n",
            "\n",
            "Merge 4: Merged ('r', '</w>') -> 'r</w>'\n",
            "Current vocabulary:\n",
            "  l o w </w>: 5\n",
            "  l o we r</w>: 2\n",
            "  newe s t </w>: 6\n",
            "  w i d e s t </w>: 3\n",
            "  newe r</w>: 17\n",
            "\n",
            "Merge 5: Merged ('newe', 'r</w>') -> 'newer</w>'\n",
            "Current vocabulary:\n",
            "  l o w </w>: 5\n",
            "  l o we r</w>: 2\n",
            "  newe s t </w>: 6\n",
            "  w i d e s t </w>: 3\n",
            "  newer</w>: 17\n",
            "\n",
            "Merge 6: Merged ('s', 't') -> 'st'\n",
            "Current vocabulary:\n",
            "  l o w </w>: 5\n",
            "  l o we r</w>: 2\n",
            "  newe st </w>: 6\n",
            "  w i d e st </w>: 3\n",
            "  newer</w>: 17\n",
            "\n",
            "Merge 7: Merged ('st', '</w>') -> 'st</w>'\n",
            "Current vocabulary:\n",
            "  l o w </w>: 5\n",
            "  l o we r</w>: 2\n",
            "  newe st</w>: 6\n",
            "  w i d e st</w>: 3\n",
            "  newer</w>: 17\n",
            "\n",
            "Merge 8: Merged ('l', 'o') -> 'lo'\n",
            "Current vocabulary:\n",
            "  lo w </w>: 5\n",
            "  lo we r</w>: 2\n",
            "  newe st</w>: 6\n",
            "  w i d e st</w>: 3\n",
            "  newer</w>: 17\n",
            "\n",
            "Merge 9: Merged ('newe', 'st</w>') -> 'newest</w>'\n",
            "Current vocabulary:\n",
            "  lo w </w>: 5\n",
            "  lo we r</w>: 2\n",
            "  newest</w>: 6\n",
            "  w i d e st</w>: 3\n",
            "  newer</w>: 17\n",
            "\n",
            "Merge 10: Merged ('lo', 'w') -> 'low'\n",
            "Current vocabulary:\n",
            "  low </w>: 5\n",
            "  lowe r</w>: 2\n",
            "  newest</w>: 6\n",
            "  w i d e st</w>: 3\n",
            "  newer</w>: 17\n",
            "\n",
            "Merge 11: Merged ('low', '</w>') -> 'low</w>'\n",
            "Current vocabulary:\n",
            "  low</w>: 5\n",
            "  lowe r</w>: 2\n",
            "  newest</w>: 6\n",
            "  w i d e st</w>: 3\n",
            "  newer</w>: 17\n",
            "\n",
            "Merge 12: Merged ('w', 'i') -> 'wi'\n",
            "Current vocabulary:\n",
            "  low</w>: 5\n",
            "  lowe r</w>: 2\n",
            "  newest</w>: 6\n",
            "  wi d e st</w>: 3\n",
            "  newer</w>: 17\n",
            "\n",
            "Merge 13: Merged ('wi', 'd') -> 'wid'\n",
            "Current vocabulary:\n",
            "  low</w>: 5\n",
            "  lowe r</w>: 2\n",
            "  newest</w>: 6\n",
            "  wid e st</w>: 3\n",
            "  newer</w>: 17\n",
            "\n",
            "Merge 14: Merged ('wid', 'e') -> 'wide'\n",
            "Current vocabulary:\n",
            "  low</w>: 5\n",
            "  lowe r</w>: 2\n",
            "  newest</w>: 6\n",
            "  wide st</w>: 3\n",
            "  newer</w>: 17\n",
            "\n",
            "Merge 15: Merged ('wide', 'st</w>') -> 'widest</w>'\n",
            "Current vocabulary:\n",
            "  low</w>: 5\n",
            "  lowe r</w>: 2\n",
            "  newest</w>: 6\n",
            "  widest</w>: 3\n",
            "  newer</w>: 17\n",
            "\n",
            "Merge 16: Merged ('lowe', 'r</w>') -> 'lower</w>'\n",
            "Current vocabulary:\n",
            "  low</w>: 5\n",
            "  lower</w>: 2\n",
            "  newest</w>: 6\n",
            "  widest</w>: 3\n",
            "  newer</w>: 17\n"
          ]
        }
      ]
    },
    {
      "cell_type": "markdown",
      "id": "5e8c1023",
      "metadata": {
        "id": "5e8c1023"
      },
      "source": [
        "Experiment: try new sentences, emojis, code snippets, or other languages. If you are interested, try implementing the BPE algorithm yourself.\n",
        "\n",
        "### 1.5 - Key Takeaways\n",
        "\n",
        "* **Word‑level**: simple but brittle (OOV problems).  \n",
        "* **Character‑level**: robust but produces long sequences.  \n",
        "* **BPE / Byte‑Level BPE**: middle ground used by most LLMs.  \n",
        "* **tiktoken**: shows how production models tokenize with pre‑trained sub‑word vocabularies."
      ]
    },
    {
      "cell_type": "markdown",
      "id": "c2a758ba",
      "metadata": {
        "id": "c2a758ba"
      },
      "source": [
        "# 2. What is a Language Model?\n",
        "\n",
        "At its core, a **language model (LM)** is just a *very large* mathematical function built from many neural-network layers.  \n",
        "Given a sequence of tokens `[t₁, t₂, …, tₙ]`, it learns to output a probability for the next token `tₙ₊₁`.\n",
        "\n",
        "\n",
        "Each layer applies a simple operation (matrix multiplication, attention, etc.). Stacking hundreds of these layers lets the model capture patterns and statistical relations from text. The final output is a vector of scores that says, “how likely is each possible token to come next?”\n",
        "\n",
        "> Think of the whole network as **one gigantic equation** whose parameters were tuned during training to minimize prediction error.\n"
      ]
    },
    {
      "cell_type": "markdown",
      "id": "8f0c7399",
      "metadata": {
        "id": "8f0c7399"
      },
      "source": [
        "\n",
        "### 2.1 - A Single `Linear` Layer\n",
        "\n",
        "Before we explore Transformer, let’s start tiny:\n",
        "\n",
        "* A **Linear layer** performs `y = Wx + b`  \n",
        "  * `x` – input vector  \n",
        "  * `W` – weight matrix (learned)  \n",
        "  * `b` – bias vector (learned)\n",
        "\n",
        "Although this looks basic, chaining thousands of such linear transforms (with nonlinearities in between) gives neural nets their expressive power.\n"
      ]
    },
    {
      "cell_type": "code",
      "execution_count": null,
      "id": "e425948a",
      "metadata": {
        "id": "e425948a"
      },
      "outputs": [],
      "source": [
        "import torch.nn as nn\n",
        "class Linear(nn.Module):\n",
        "    def __init__(self, in_features, out_features):\n",
        "        super(Linear, self).__init__()\n",
        "        self.weight = nn.Parameter(torch.randn(out_features, in_features) * 0.1)\n",
        "        self.bias = nn.Parameter(torch.zeros(out_features))\n",
        "\n",
        "    def forward(self, x):\n",
        "      return torch.matmul(x, self.weight.T) + self.bias\n"
      ]
    },
    {
      "cell_type": "code",
      "execution_count": null,
      "id": "13e5e225",
      "metadata": {
        "id": "13e5e225",
        "colab": {
          "base_uri": "https://localhost:8080/"
        },
        "outputId": "51ea3a7b-706d-41bb-d22c-2b67817fd64b"
      },
      "outputs": [
        {
          "output_type": "stream",
          "name": "stdout",
          "text": [
            "Input : tensor([ 1.0000, -1.0000,  0.5000])\n",
            "Weights: Parameter containing:\n",
            "tensor([[-0.3605,  0.0040, -0.4891],\n",
            "        [ 0.5371,  0.3731,  0.4417]], requires_grad=True)\n",
            "Bias   : Parameter containing:\n",
            "tensor([ 0.4721, -0.2014], requires_grad=True)\n",
            "Output : tensor([-0.1370,  0.1834], grad_fn=<ViewBackward0>)\n"
          ]
        }
      ],
      "source": [
        "import torch.nn as nn, torch\n",
        "\n",
        "lin = nn.Linear(3, 2)\n",
        "x = torch.tensor([1.0, -1.0, 0.5])\n",
        "print(\"Input :\", x)\n",
        "print(\"Weights:\", lin.weight)\n",
        "print(\"Bias   :\", lin.bias)\n",
        "print(\"Output :\", lin(x))\n"
      ]
    },
    {
      "cell_type": "markdown",
      "id": "a04f56bf",
      "metadata": {
        "id": "a04f56bf"
      },
      "source": [
        "### 2.2 - A `Transformer` Layer\n",
        "\n",
        "Most LLMs are a **stack of identical Transformer blocks**. Each block fuses two main components:\n",
        "\n",
        "| Step | What it does | Where it lives in code |\n",
        "|------|--------------|------------------------|\n",
        "| **Multi-Head Self-Attention** | Every token looks at every other token and decides *what matters*. | `block.attn` |\n",
        "| **Feed-Forward Network (MLP)** | Re-mixes information token-by-token. | `block.mlp` |\n",
        "\n",
        "Below, we load the smallest public GPT-2 (124 M parameters), grab its *first* block, and inspect the pieces.\n"
      ]
    },
    {
      "cell_type": "code",
      "execution_count": null,
      "id": "47c87f6e",
      "metadata": {
        "id": "47c87f6e"
      },
      "outputs": [],
      "source": [
        "import torch\n",
        "from transformers import GPT2LMHeadModel\n",
        "\n",
        "# Load the 124 M-parameter GPT-2 and inspect its layers (12 layers)\n",
        "\"\"\"\n",
        "YOUR CODE HERE\n",
        "\"\"\""
      ]
    },
    {
      "cell_type": "code",
      "execution_count": null,
      "id": "92df06df",
      "metadata": {
        "id": "92df06df"
      },
      "outputs": [],
      "source": [
        "# Run a tiny forward pass through the first block\n",
        "seq_len = 8\n",
        "dummy_tokens = torch.randint(0, gpt2.config.vocab_size, (1, seq_len))\n",
        "with torch.no_grad():\n",
        "    # Embed tokens + positions the same way GPT-2 does\n",
        "    # Forward through one layer\n",
        "    \"\"\"\n",
        "    YOUR CODE HERE\n",
        "    \"\"\"\n",
        "\n",
        "print(\"\\nOutput shape :\", out.shape) # (batch, seq_len, hidden_size)"
      ]
    },
    {
      "cell_type": "markdown",
      "id": "8493ecc8",
      "metadata": {
        "id": "8493ecc8"
      },
      "source": [
        "### 2.3 - Inside GPT-2\n",
        "\n",
        "GPT-2 is just many of those modules arranged in a repeating *block*. Let's print the modules inside the Transformer."
      ]
    },
    {
      "cell_type": "code",
      "execution_count": null,
      "id": "a78ddee1",
      "metadata": {
        "id": "a78ddee1"
      },
      "outputs": [],
      "source": [
        "# Print the name and modules inside gpt2\n",
        "\"\"\"\n",
        "YOUR CODE HERE\n",
        "\"\"\""
      ]
    },
    {
      "cell_type": "markdown",
      "id": "ed029847",
      "metadata": {
        "id": "ed029847"
      },
      "source": [
        "As you can see, the Transformer holds various modules, arranged from a list of blocks (`h`). The following table summarizes these modules:\n",
        "\n",
        "| Step | What it does | Why it matters |\n",
        "|------|--------------|----------------|\n",
        "| **Token → Embedding** | Converts IDs to vectors | Gives the model a numeric “handle” on words |\n",
        "| **Positional Encoding** | Adds “where am I?” info | Order matters in language |\n",
        "| **Multi-Head Self-Attention** | Each token asks “which other tokens should I look at?” | Lets the model relate words across a sentence |\n",
        "| **Feed-Forward Network** | Two stacked Linear layers with a non-linearity | Mixes information and adds depth |\n",
        "| **LayerNorm & Residual** | Stabilize training and help gradients flow | Keeps very deep networks trainable |\n"
      ]
    },
    {
      "cell_type": "markdown",
      "id": "0a6a7495",
      "metadata": {
        "id": "0a6a7495"
      },
      "source": [
        "### 2.4 LLM's output\n",
        "\n",
        "Passing a token sequence through an **LLM** yields a tensor of **logits** with shape  \n",
        "`(batch_size, seq_len, vocab_size)`.  \n",
        "Applying `softmax` on the last dimension turns those logits into probabilities.\n",
        "\n",
        "The cell below feeds an 8-token dummy sequence, prints the logits shape, and shows the five most likely next tokens for the final position.\n"
      ]
    },
    {
      "cell_type": "code",
      "execution_count": null,
      "id": "f98b7b34",
      "metadata": {
        "id": "f98b7b34"
      },
      "outputs": [],
      "source": [
        "import torch, torch.nn.functional as F\n",
        "from transformers import GPT2LMHeadModel, GPT2TokenizerFast\n",
        "\n",
        "# Load gpt2 model and tokenizer\n",
        "\"\"\"\n",
        "YOUR CODE HERE\n",
        "\"\"\"\n",
        "\n",
        "# Tokenize input text\n",
        "text = \"Hello my name\"\n",
        "\"\"\"\n",
        "YOUR CODE HERE\n",
        "\"\"\"\n",
        "\n",
        "# Get logits by passing the ids to the gpt2 model.\n",
        "\"\"\"\n",
        "YOUR CODE HERE\n",
        "\"\"\"\n",
        "\n",
        "print(\"Logits shape :\", logits.shape)\n",
        "\n",
        "# Predict next token\n",
        "\"\"\"\n",
        "YOUR CODE HERE\n",
        "\"\"\"\n",
        "\n",
        "print(\"\\nTop-5 predictions for the next token:\")\n",
        "\"\"\"\n",
        "YOUR CODE HERE\n",
        "\"\"\"\n"
      ]
    },
    {
      "cell_type": "markdown",
      "id": "0eb05c9b",
      "metadata": {
        "id": "0eb05c9b"
      },
      "source": [
        "### 2.5 - Key Takeaway\n",
        "\n",
        "A language model is nothing mystical: it’s a *huge composition* of small, understandable layers trained to predict the next token in a sequence of tokens."
      ]
    },
    {
      "cell_type": "markdown",
      "id": "e0ccf391",
      "metadata": {
        "id": "e0ccf391"
      },
      "source": [
        "# 3 - Generation\n",
        "Once an LLM is trained to predict the probabilities, we can generate text from the model. This process is called decoding or sampling.\n",
        "\n",
        "At each step, the LLM outputs a **probability distribution** over the next token. It is the job of the decoding algorithm to pick the next token, and move on to the next token. There are different decoding algorithms and hyper-parameters to control the generaiton:\n",
        "* **Greedy** → pick the single highest‑probability token each step (safe but repetitive).  \n",
        "* **Top‑k / Nucleus (top‑p)** → sample from a subset of likely tokens (adds variety).\n",
        "* **beam** -> applies beam search to pick tokens\n",
        "* **Temperature** → a *creativity* knob. Higher values flatten the probability distribution."
      ]
    },
    {
      "cell_type": "markdown",
      "id": "ac0c5728",
      "metadata": {
        "id": "ac0c5728"
      },
      "source": [
        "### 3.1 - Greedy decoding"
      ]
    },
    {
      "cell_type": "code",
      "execution_count": null,
      "id": "2f2cb953",
      "metadata": {
        "id": "2f2cb953"
      },
      "outputs": [],
      "source": [
        "from transformers import AutoTokenizer, AutoModelForCausalLM\n",
        "MODELS = {\n",
        "    \"gpt2\": \"gpt2\",\n",
        "}\n",
        "tokenizers, models = {}, {}\n",
        "# Load models and tokenizers\n",
        "\"\"\"\n",
        "YOUR CODE HERE\n",
        "\"\"\"\n",
        "\n",
        "def generate(model_key, prompt, strategy=\"greedy\", max_new_tokens=100):\n",
        "    tok, mdl = tokenizers[model_key], models[model_key]\n",
        "    # Return the generations based on the provided strategy: greedy, top_k, top_p\n",
        "    \"\"\"\n",
        "    YOUR CODE HERE\n",
        "    \"\"\"\n"
      ]
    },
    {
      "cell_type": "code",
      "execution_count": null,
      "id": "dbe777ba",
      "metadata": {
        "id": "dbe777ba"
      },
      "outputs": [],
      "source": [
        "tests=[\"Once upon a time\",\"What is 2+2?\", \"Suggest a party theme.\"]\n",
        "for prompt in tests:\n",
        "    print(f\"\\n== GPT-2 | Greedy ==\")\n",
        "    print(generate(\"gpt2\", prompt, \"greedy\", 80))\n"
      ]
    },
    {
      "cell_type": "markdown",
      "id": "f51d44b2",
      "metadata": {
        "id": "f51d44b2"
      },
      "source": [
        "\n",
        "Naively picking the single best token every time has the following issues in practice:\n",
        "\n",
        "* **Loop**: “The cat is is is…”  \n",
        "* **Miss long-term payoff**: the highest-probability word *now* might paint you into a boring corner later."
      ]
    },
    {
      "cell_type": "markdown",
      "id": "91607661",
      "metadata": {
        "id": "91607661"
      },
      "source": [
        "### 3.2 - Top-k or top-p sampling"
      ]
    },
    {
      "cell_type": "code",
      "execution_count": null,
      "id": "0633d4a3",
      "metadata": {
        "id": "0633d4a3"
      },
      "outputs": [],
      "source": [
        "\n",
        "tests=[\"Once upon a time\",\"What is 2+2?\", \"Suggest a party theme.\"]\n",
        "for prompt in tests:\n",
        "    print(f\"\\n== GPT-2 | Top-p ==\")\n",
        "    print(generate(\"gpt2\", prompt, \"top-p\", 40))\n"
      ]
    },
    {
      "cell_type": "markdown",
      "id": "004b4039",
      "metadata": {
        "id": "004b4039"
      },
      "source": [
        "### 3.3 - Try It Yourself\n",
        "\n",
        "1. Scroll to the list called `tests`.\n",
        "2. Swap in your own prompts or tweak the decoding strategy.  \n",
        "3. Re‑run the cell and compare the vibes.\n",
        "\n",
        "> **Tip:** Try the same prompt with `greedy` vs. `top_p` (0.9) and see how the tone changes. Notice especially how small temperature tweaks can soften or sharpen the prose.\n",
        "\n",
        "* `strategy`: `\"greedy\"`, `\"beam\"`, `\"top_k\"`, `\"top_p\"`  \n",
        "* `temperature`: `0.2 – 2.0`  \n",
        "* `k` or `p` thresholds\n",
        "\n"
      ]
    },
    {
      "cell_type": "markdown",
      "id": "6b775b02",
      "metadata": {
        "id": "6b775b02"
      },
      "source": [
        "# 4 - Completion vs. Instruction-tuned LLMs\n",
        "\n",
        "We have seen that we can use GPT2 model to pass an input text and generate a new text. However, this model only continues the provided text. It is not engaging in a dialouge-like conversation and cannot be helpful by answering instructions. On the other hand, **instruction-tuned LLMs** like `Qwen-Chat` go through an extra training stage called **post-training** after the base “completion” model is finished. Because of post-training step, an instruction-tuned LLM will:\n",
        "\n",
        "* **Read the entire prompt as a request,** not just as text to mimic.  \n",
        "* **Stay in dialogue mode**. Answer questions, follow steps, ask clarifying queries.  \n",
        "* **Refuse or safe-complete** when instructions are unsafe or disallowed.  \n",
        "* **Adopt a consistent persona** (e.g., “Assistant”) rather than drifting into story continuation.\n"
      ]
    },
    {
      "cell_type": "markdown",
      "id": "1706dc08",
      "metadata": {
        "id": "1706dc08"
      },
      "source": [
        "### 4.1 - Qwen1.5-8B vs. GPT2\n",
        "\n",
        "In the code below we’ll feed the same prompt to:\n",
        "\n",
        "* **GPT-2 (completion-only)** – it will simply keep writing in the same style.  \n",
        "* **Qwen-Chat (instruction-tuned)** – it will obey the instruction and respond directly.\n",
        "\n",
        "Comparing the two outputs makes the difference easy to see."
      ]
    },
    {
      "cell_type": "code",
      "execution_count": null,
      "id": "57b73e7a",
      "metadata": {
        "id": "57b73e7a"
      },
      "outputs": [],
      "source": [
        "from transformers import AutoTokenizer, AutoModelForCausalLM\n",
        "MODELS = {\n",
        "    \"gpt2\": \"gpt2\",\n",
        "    \"qwen\": \"Qwen/Qwen1.5-1.8B-Chat\"\n",
        "}\n",
        "tokenizers, models = {}, {}\n",
        "# Load models and tokenizers\n",
        "\"\"\"\n",
        "YOUR CODE HERE\n",
        "\"\"\"\n"
      ]
    },
    {
      "cell_type": "markdown",
      "id": "ef49ab1b",
      "metadata": {
        "id": "ef49ab1b"
      },
      "source": [
        "\n",
        "We downloaded two tiny checkpoints: `GPT‑2` (124 M parameters) and `Qwen‑1.5‑Chat` (1.8 B). If the cell took a while, that was mostly network time. Models are stored locally after the first run.\n",
        "\n",
        "Let's now generate text and compare two models.\n"
      ]
    },
    {
      "cell_type": "code",
      "execution_count": null,
      "id": "0c78a508",
      "metadata": {
        "id": "0c78a508"
      },
      "outputs": [],
      "source": [
        "\n",
        "tests=[(\"Once upon a time\",\"greedy\"),(\"What is 2+2?\",\"top_k\"),(\"Suggest a party theme.\",\"top_p\")]\n",
        "for prompt,strategy in tests:\n",
        "    for key in [\"gpt2\",\"qwen\"]:\n",
        "        print(f\"\\n== {key.upper()} | {strategy} ==\")\n",
        "        print(generate(key,prompt,strategy,80))\n"
      ]
    },
    {
      "cell_type": "markdown",
      "id": "8e1c3da1",
      "metadata": {
        "id": "8e1c3da1"
      },
      "source": [
        "# 5. (Optional) A Small LLM Playground"
      ]
    },
    {
      "cell_type": "markdown",
      "id": "313ba974",
      "metadata": {
        "id": "313ba974"
      },
      "source": [
        "### 5.1 ‑ Interactive Playground\n",
        "\n",
        "Enter a prompt, pick a model and decoding strategy, adjust the temperature, and press **Generate** to watch the model respond.\n"
      ]
    },
    {
      "cell_type": "code",
      "execution_count": null,
      "id": "1a67a884",
      "metadata": {
        "id": "1a67a884"
      },
      "outputs": [],
      "source": [
        "import ipywidgets as widgets\n",
        "from IPython.display import display, Markdown\n",
        "\n",
        "# Make sure models and tokenizers are loaded\n",
        "try:\n",
        "    tokenizers\n",
        "    models\n",
        "except NameError:\n",
        "    raise RuntimeError(\"Please run the earlier setup cells that load the models before using the playground.\")\n",
        "\n",
        "def generate_playground(model_key, prompt, strategy=\"greedy\", temperature=1.0, max_new_tokens=100):\n",
        "    # Generation code\n",
        "    \"\"\"\n",
        "    YOUR CODE HERE\n",
        "    \"\"\"\n",
        "\n",
        "# Your code to build boxes, dropdowns, and other elements in the UI using widgets and creating the UI using widgets.vbox and display.\n",
        "# Refer to https://ipywidgets.readthedocs.io/en/stable/\n",
        "\"\"\"\n",
        "YOUR CODE HERE\n",
        "\"\"\"\n"
      ]
    },
    {
      "cell_type": "markdown",
      "id": "cfbccead",
      "metadata": {
        "id": "cfbccead"
      },
      "source": [
        "\n",
        "## 🎉 Congratulations!\n",
        "\n",
        "You’ve just learned, explored, and inspected a real **LLM**. In one project you:\n",
        "* Learned how **tokenization** works in practice\n",
        "* Used `tiktoken` library to load and experiment with most advanced tokenizers.\n",
        "* Explored LLM architecture and inspected GPT2 blocks and layers\n",
        "* Learned decoding strategies and used `top-p` to generate text from GPT2\n",
        "* Loaded a powerful chat model, `Qwen1.5-8B` and generated text\n",
        "* Built an LLM playground\n",
        "\n",
        "\n",
        "👏 **Great job!** Take a moment to celebrate. You now have a working mental model of how LLMs work. The skills you used here power most LLMs you see everywhere.\n"
      ]
    },
    {
      "cell_type": "markdown",
      "id": "30824bd6",
      "metadata": {
        "id": "30824bd6"
      },
      "source": []
    }
  ],
  "metadata": {
    "colab": {
      "provenance": [],
      "collapsed_sections": [
        "a379bac7"
      ],
      "include_colab_link": true
    },
    "kernelspec": {
      "display_name": "Python 3",
      "name": "python3"
    },
    "language_info": {
      "codemirror_mode": {
        "name": "ipython",
        "version": 3
      },
      "file_extension": ".py",
      "mimetype": "text/x-python",
      "name": "python",
      "nbconvert_exporter": "python",
      "pygments_lexer": "ipython3",
      "version": "3.11.12"
    }
  },
  "nbformat": 4,
  "nbformat_minor": 5
}
