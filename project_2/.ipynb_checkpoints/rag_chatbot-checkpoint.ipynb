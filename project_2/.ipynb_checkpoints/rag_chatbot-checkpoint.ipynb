{
 "cells": [
  {
   "cell_type": "markdown",
   "id": "568f5f07",
   "metadata": {},
   "source": [
    "# Project 2: Customer‑Support Chatbot for an E-Commerce Store"
   ]
  },
  {
   "cell_type": "markdown",
   "id": "2cfe2a04",
   "metadata": {},
   "source": [
    "Welcome! In this project, you'll build a **chatbot** that answers customer service questions about Everstorm Outfitters, an imaginary e-commerce store.\n",
    "\n",
    "Run each cell in order. Feel free to modify them as you go to better understand each tool and search the web or look online for documentation."
   ]
  },
  {
   "cell_type": "markdown",
   "id": "f49e17b2",
   "metadata": {},
   "source": [
    "## Learning Objectives  \n",
    "* **Ingest & chunk** unstructured docs  \n",
    "* **Embed** chunks and **index** with *FAISS*  \n",
    "* **Retrieve** context and **craft prompts**  \n",
    "* **Run** an open‑weight LLM locally with *Ollama*  \n",
    "* **Build** a Retrieval-Augmented Generation (RAG) chain\n",
    "* **Package** the chat loop in a minimal **Streamlit** web UI"
   ]
  },
  {
   "cell_type": "markdown",
   "id": "2a46b9cc",
   "metadata": {},
   "source": [
    "## Roadmap  \n",
    "We will build a RAG-based chatbot in **six** steps:\n",
    "\n",
    "1. **Environment setup**\n",
    "2. **Data preparation**  \n",
    "   a. Load source documents  \n",
    "   b. Chunk the text  \n",
    "3. **Build a retriever**  \n",
    "   a. Generate embeddings  \n",
    "   b. Build a FAISS vector index  \n",
    "4. **Build a generation engine**. Load the *Gemma3-1B* model through Ollama and run a sanity check.  \n",
    "5. **Build a RAG**. Connect the system prompt, retriever, and LLM together. \n",
    "6. **(Optional) Streamlit UI**. Wrap everything in a simple web app so users can chat with the bot.\n"
   ]
  },
  {
   "cell_type": "markdown",
   "id": "3a01819c",
   "metadata": {},
   "source": [
    "## 1 - Environment setup\n",
    "\n",
    "We use conda to manage our project dependencies and ensure everyone has a consistent setup. Conda is an open-source package and environment manager that makes it easy to install libraries and switch between isolated environments. To learn more about conda, you can read: https://docs.conda.io/en/latest/\n",
    "\n",
    "Create and activate a clean *conda* environment and install the required packages. If you don't have conda installed, visit https://www.anaconda.com/docs/getting-started/miniconda/main.\n",
    "\n",
    "\n",
    "Open your terminal, navigate to the project folder where this notebook is located, and run the following commands.\n",
    "\n",
    "```bash\n",
    "conda env create -f environment.yml && conda activate rag-chatbot\n",
    "\n",
    "# (Optional but recommended) Register this environment as a Jupyter kernel\n",
    "python -m ipykernel install --user --name=rag-chatbot --display-name \"rag-chatbot\"\n",
    "```\n",
    "Once this is done, you can select “rag-chatbot” from the Kernel → Change Kernel menu in Jupyter or VS Code.\n",
    "\n",
    "\n",
    "> Behind the scenes:\n",
    "> * Conda reads `environment.yml`, solves all pinned dependencies, and builds an isolated environment named `rag-chatbot`.\n",
    "> * When it reaches the file’s \"pip:\" section, Conda automatically invokes pip to install any remaining Python-only packages so the whole stack be available for the project.\n",
    "> * Registering the kernel makes your new environment visible to Jupyter, so the notebook runs inside the same environment you just created."
   ]
  },
  {
   "cell_type": "markdown",
   "id": "32a29e43",
   "metadata": {},
   "source": [
    "Let's import required libraries and print a message if we're not **missing packages**."
   ]
  },
  {
   "cell_type": "code",
   "execution_count": 1,
   "id": "65b49fcb",
   "metadata": {},
   "outputs": [
    {
     "name": "stdout",
     "output_type": "stream",
     "text": [
      "✅ Libraries imported! You're good to go!\n"
     ]
    }
   ],
   "source": [
    "# Import standard libraries for file handling and text processing\n",
    "import os, pathlib, textwrap, glob\n",
    "\n",
    "# Load documents from various sources (URLs, text files, PDFs)\n",
    "from langchain_community.document_loaders import UnstructuredURLLoader, TextLoader, PyPDFLoader\n",
    "\n",
    "# Split long texts into smaller, manageable chunks for embedding\n",
    "from langchain.text_splitter import RecursiveCharacterTextSplitter\n",
    "\n",
    "# Vector store to store and retrieve embeddings efficiently using FAISS\n",
    "from langchain.vectorstores import FAISS\n",
    "\n",
    "# Generate text embeddings using OpenAI or Hugging Face models\n",
    "from langchain.embeddings import OpenAIEmbeddings, HuggingFaceEmbeddings, SentenceTransformerEmbeddings\n",
    "\n",
    "# Use local LLMs (e.g., via Ollama) for response generation\n",
    "from langchain.llms import Ollama\n",
    "\n",
    "# Build a retrieval chain that combines a retriever, a prompt, and an LLM\n",
    "from langchain.chains import ConversationalRetrievalChain\n",
    "\n",
    "# Create prompts for the RAG system\n",
    "from langchain.prompts import PromptTemplate\n",
    "\n",
    "print(\"✅ Libraries imported! You're good to go!\")"
   ]
  },
  {
   "cell_type": "markdown",
   "id": "1aaacfdc",
   "metadata": {},
   "source": [
    "## 2 - Data preparation\n",
    "The goal of this step is to turn all reference documents into small chunks of text that a retriever can index and search. These documents typically come from:\n",
    "* PDF files: local documents such as policies, user manuals, or guides.\n",
    "* Web pages (HTML): online documentation, blog posts, or help articles.\n",
    "\n",
    "In this step, we perform two actions:\n",
    "* **Ingesting**: load every PDF and collect the raw text in a list named `raw_docs`.\n",
    "* **Chunking**: split each document into small, overlapping chunks so later steps can match a user query to the most relevant passage."
   ]
  },
  {
   "cell_type": "markdown",
   "id": "87150689",
   "metadata": {},
   "source": [
    "### 2.1 - Ingest source documents"
   ]
  },
  {
   "cell_type": "markdown",
   "id": "078b461a",
   "metadata": {},
   "source": [
    "We can use different libraries to load and process PDFs. A quick web search will show several options, each with its own strengths. In this case, we’ll use PyPDFLoader from LangChain, which makes it easy to extract text from PDF files for downstream processing. To learn more about how to use it, refer to: https://python.langchain.com/docs/integrations/document_loaders/pypdfloader/\n",
    "\n",
    "Use **PyPDFLoader** to load every PDF whose filename matches `data/Everstorm_*.pdf` and collect all pages in a list called `raw_docs`. The content of these PDFs is synthetically generated for educational purposes."
   ]
  },
  {
   "cell_type": "code",
   "execution_count": 24,
   "id": "9ff055a6",
   "metadata": {},
   "outputs": [
    {
     "name": "stderr",
     "output_type": "stream",
     "text": [
      "Ignoring wrong pointing object 76 0 (offset 0)\n",
      "Ignoring wrong pointing object 81 0 (offset 0)\n",
      "Ignoring wrong pointing object 80 0 (offset 0)\n"
     ]
    },
    {
     "name": "stdout",
     "output_type": "stream",
     "text": [
      "Loaded 8 PDF pages from 4 files.\n"
     ]
    }
   ],
   "source": [
    "from langchain_community.document_loaders import PyPDFLoader\n",
    "import pprint\n",
    "\n",
    "pdf_paths = glob.glob(\"data/Everstorm_*.pdf\")\n",
    "raw_docs = []\n",
    "\n",
    "for pdf in pdf_paths:\n",
    "    loader = PyPDFLoader(pdf)\n",
    "    raw_docs = raw_docs + loader.load()\n",
    "###    \n",
    "#    #print(f\"Loaded {len(docs)} PDF pages\")\n",
    "#    pages = []\n",
    "#    for doc in loader.lazy_load():\n",
    "#        pages.append(doc)\n",
    "#        print(f\"Doc-Page Contents: {doc.page_content[:100]}\")    \n",
    "#    print(f\"# of pages: {len(pages)} PDF pages\")\n",
    "#    pprint.pp(f\"Pages[0] Metadata: {pages[0].metadata}\")\n",
    "###\n",
    "print(f\"Loaded {len(raw_docs)} PDF pages from {len(pdf_paths)} files.\")"
   ]
  },
  {
   "cell_type": "markdown",
   "id": "a2c58644-7947-4207-97d2-f902c504fa96",
   "metadata": {
    "jp-MarkdownHeadingCollapsed": true
   },
   "source": [
    "### (Optional) 2.1 - Load web pages\n",
    "You can also pull content straight from the web. Various libraries support reading and parsing web pages directly into text, which is useful for building custom knowledge bases. One example is **UnstructuredURLLoader** from LangChain, which can extract readable content from raw HTML pages and return them in a structured format. To learn more, see: https://python.langchain.com/api_reference/community/document_loaders/langchain_community.document_loaders.url.UnstructuredURLLoader.html\n",
    "\n",
    "To practice, load each HTML page below and store the results in a list called `raw_docs`. We’ve included a few sample URLs, but you can replace them with any links you prefer.\n",
    "\n",
    "For robustness, add an offline fallback in case a URL fails. In real projects, we typically cache fetched pages to disk, handle rate limits, and track fetch timestamps so content can be refreshed periodically without relying on live network calls during development. For this project, we don’t have offline HTML copies available, but you can still practice by loading any PDFs from the data/ folder using PyPDFLoader and appending them to raw_docs."
   ]
  },
  {
   "cell_type": "code",
   "execution_count": 5,
   "id": "65abec32",
   "metadata": {},
   "outputs": [
    {
     "name": "stdout",
     "output_type": "stream",
     "text": [
      "Fetched 2 documents from the web.\n",
      "Doc-Page Contents: Docs\n",
      "\n",
      "Store operations\n",
      "\n",
      "Shipping\n",
      "\n",
      "Overview\n",
      "\n",
      "Shipping\n",
      "\n",
      "You can create shipments from orders, and it i\n",
      "Doc-Page Contents: Docs\n",
      "\n",
      "Store operations\n",
      "\n",
      "Orders\n",
      "\n",
      "Refunds\n",
      "\n",
      "Order Refunds\n",
      "\n",
      "Order V3 exposes endpoints for creating refu\n",
      "# of pages: 2 PDF pages\n",
      "(\"Pages[0] Metadata: {'source': \"\n",
      " \"'https://developer.bigcommerce.com/docs/store-operations/shipping'}\")\n"
     ]
    }
   ],
   "source": [
    "from langchain_community.document_loaders import UnstructuredURLLoader\n",
    "\n",
    "URLS = [\n",
    "    # --- BigCommerce – shipping & refunds ---\n",
    "    \"https://developer.bigcommerce.com/docs/store-operations/shipping\",\n",
    "    \"https://developer.bigcommerce.com/docs/store-operations/orders/refunds\",\n",
    "    # --- Stripe – disputes & chargebacks ---\n",
    "    # \"https://docs.stripe.com/disputes\",  \n",
    "    # --- WooCommerce – REST API reference ---\n",
    "    # \"https://woocommerce.github.io/woocommerce-rest-api-docs/v3.html\",\n",
    "]\n",
    "raw_docs = []\n",
    "try:\n",
    "    loader = UnstructuredURLLoader(URLS)\n",
    "    raw_docs = loader.load()\n",
    "    ########################\n",
    "    #### Your code here (~2-3 lines of code) ####\n",
    "    ########################\n",
    "    \n",
    "    print(f\"Fetched {len(raw_docs)} documents from the web.\")\n",
    "\n",
    "    pages = []\n",
    "    for doc in loader.lazy_load():\n",
    "        pages.append(doc)\n",
    "        print(f\"Doc-Page Contents: {doc.page_content[:100]}\")\n",
    "    \n",
    "    print(f\"# of pages: {len(pages)} PDF pages\")\n",
    "    pprint.pp(f\"Pages[0] Metadata: {pages[0].metadata}\")    \n",
    "except Exception as e:\n",
    "    print(\"⚠️  Web fetch failed, using offline copies:\", e)\n",
    "    raw_docs = []\n",
    "    ########################\n",
    "    #### Your code here ####\n",
    "    ########################   \n",
    "    print(f\"Loaded {len(raw_docs)} offline documents.\")"
   ]
  },
  {
   "cell_type": "markdown",
   "id": "c0ac4490",
   "metadata": {},
   "source": [
    "### 2.2 - Chunk the text"
   ]
  },
  {
   "cell_type": "markdown",
   "id": "9c242e44",
   "metadata": {},
   "source": [
    "Long documents won’t work well directly with most LLMs. They can easily exceed the model’s context window, making it impossible for the model to read or reason over the full text at once. Even if they fit, processing long inputs can be inefficient and lead to weaker retrieval results.\n",
    "\n",
    "To handle this, we split large documents into smaller, overlapping chunks. Several libraries can help with text splitting, each designed to preserve structure or balance chunk size. A popular choice is `RecursiveCharacterTextSplitter` from LangChain, which splits text intelligently while keeping paragraph or sentence boundaries intact. To familiarize youself with the library, visit: https://python.langchain.com/api_reference/text_splitters/character/langchain_text_splitters.character.RecursiveCharacterTextSplitter.html\n",
    "\n",
    "In this project, we’ll split each document into chunks of roughly 300 tokens with a 30-token overlap using `RecursiveCharacterTextSplitter`. This overlap helps maintain continuity across chunks while ensuring each piece stays small enough for embedding and retrieval."
   ]
  },
  {
   "cell_type": "code",
   "execution_count": 25,
   "id": "450d48a0",
   "metadata": {},
   "outputs": [
    {
     "name": "stdout",
     "output_type": "stream",
     "text": [
      "Fetched 8 documents from the web.\n",
      "✅ 22 chunks ready for embedding\n",
      "Chunk 1:\n",
      "FAQs\n",
      "---\n",
      "Chunk 2:\n",
      "Which  payment  methods  do  you  accept?   Visa,  MasterCard,  AmEx,  Discover,  Apple  Pay,\n",
      "---\n",
      "Chunk 3:\n",
      "Apple  Pay,  Google  Pay,  PayPal,  Shop  Pay.  Installments  (US\n",
      "---\n",
      "Chunk 4:\n",
      "only),\n",
      " \n",
      "Klarna\n",
      " \n",
      "Pay-in-4\n",
      " \n",
      "(selected\n",
      " \n",
      "E\n",
      "---\n",
      "Chunk 5:\n",
      "Everstorm  Outfitters    PRODUCT  SIZING  &  CARE  GUIDE    Rev  2.1  —  18  May  2025   A Apparel\n",
      "---\n",
      "Chunk 6:\n",
      "2025   A Apparel  Size  Charts  (inches)   |  Unisex  Tee  |  Chest  |  Body  Length  |\n",
      "---\n",
      "Chunk 7:\n",
      "|  Body  Length  |  |------------|-------|-------\n",
      "---\n",
      "Chunk 8:\n",
      "|-----------|------|-----|------|-------|  |  Merino  base  layer  |  Cold  gentle,  wool-safe\n",
      "---\n",
      "Chunk 9:\n",
      "gentle,  wool-safe  detergent  |  Flat  dry  |  Low  |  Avoid  fabric  softener  |  |  DWR  shell\n",
      "---\n",
      "Chunk 10:\n",
      "|  |  DWR  shell  |  Machine  cold,  no  po\n",
      "---\n",
      "Chunk 11:\n",
      "Everstorm  Outfitters    RETURN  &  EXCHANGE  POLICY    Document  ROX-2025-05   Easy-Fit  Promise\n",
      "---\n",
      "Chunk 12:\n",
      "Promise    If  your  gear  doesn’t  fit  or  just  isn’t  your  vibe,  send  it  back  within\n",
      "---\n",
      "Chunk 13:\n",
      "it  back  within  **30  days**  o\n",
      "---\n",
      "Chunk 14:\n",
      "Gifts  return  for  **store  credit**  emailed  to  the  recipient;  original  purchaser  is  not\n",
      "---\n",
      "Chunk 15:\n",
      "purchaser  is  not  notified.   International  Returns    ●  Label  cost  is  deducted  from\n",
      "---\n",
      "Chunk 16:\n",
      "is  deducted  from  refund  (approx.  $15–$25).\n",
      "---\n",
      "Chunk 17:\n",
      "Everstorm  Outfitters    SHIPPING  &  DELIVERY  POLICY    Revision  4.0  —  Effective  18  May  2025\n",
      "---\n",
      "Chunk 18:\n",
      "18  May  2025   1 Who  We  Ship  To    •  United  States,  Canada,  EU/EEA,  UK,  Australia,  New\n",
      "---\n",
      "Chunk 19:\n",
      "Australia,  New  Zealand,  Japa\n",
      "---\n",
      "Chunk 20:\n",
      "8 Lost,  Stolen,  or  Damaged  Parcels    a)  Marked  “Delivered”  but  not  received  →  wait  24\n",
      "---\n",
      "Chunk 21:\n",
      "→  wait  24  h;  check  neighbors;  then  email  claims@everstorm.example.    b)  No  tracking\n",
      "---\n",
      "Chunk 22:\n",
      "b)  No  tracking  movement  for  7\n",
      "---\n"
     ]
    }
   ],
   "source": [
    "from langchain_text_splitters import RecursiveCharacterTextSplitter\n",
    "chunks = []\n",
    "print(f\"Fetched {len(raw_docs)} documents from the web.\")\n",
    "text_splitter = RecursiveCharacterTextSplitter(\n",
    "    chunk_size=100,\n",
    "    chunk_overlap=20,\n",
    "    separators=[\"\\n\\n\", \"\\n\", \" \", \"\"] # Default separators, can be customized\n",
    ")\n",
    "for doc in raw_docs:\n",
    "    chunks = chunks + text_splitter.split_text(doc.page_content[:200])\n",
    "print(f\"✅ {len(chunks)} chunks ready for embedding\")\n",
    "\n",
    "# Print the resulting chunks\n",
    "for i, chunk in enumerate(chunks):\n",
    "    print(f\"Chunk {i+1}:\\n{chunk}\\n---\")"
   ]
  },
  {
   "cell_type": "markdown",
   "id": "d89e6213",
   "metadata": {},
   "source": [
    "## 3 -Build a retriever\n",
    "\n",
    "A *retriever* lets the RAG pipeline efficiently look up small, relevant pieces of context at query‑time. This step has two parts:\n",
    "1. **Load a model to generate embeddings**: convert each text chunk from the reference documents into a fixed‑length vector that captures its semantic meaning.  \n",
    "2. **Build vector database**: store these embeddings in a vector database.\n"
   ]
  },
  {
   "cell_type": "markdown",
   "id": "c90db2d2",
   "metadata": {},
   "source": [
    "### 3.1 - Load a model to generate embeddings"
   ]
  },
  {
   "cell_type": "markdown",
   "id": "da722b3b",
   "metadata": {},
   "source": [
    "The goal of this step is to convert each document chunk into a numerical vector (an embedding) that captures its semantic meaning. These embeddings allow our retriever to find and compare similar pieces of text efficiently.\n",
    "\n",
    "There are models trained specifically for this purpose, called embedding models. One popular example is OpenAI’s `text-embedding-3-small`, which produces high-quality embeddings that work well for retrieval and semantic search.\n",
    "\n",
    "If you prefer running everything locally, you can use smaller open-source models such as `gte-small` (77 M parameters). These local models load quickly, don’t require internet access, and are ideal for experimentation or environments without API access. However, they’re typically less powerful than hosted models.\n",
    "\n",
    "Alternatively, you can connect to an API service to access stronger models like OpenAI’s. These require setting an API key (for example, OPENAI_API_KEY) in your environment. OpenAI allows you to create a free account and sometimes offers limited trial credits for new users, but ongoing access requires a billing setup. \n",
    "\n",
    "In this exercise, we’ll stick to the smaller gte-small model for simplicity and reproducibility. We'll use our imported `SentenceTransformerEmbeddings` library to load the model and use it to embed queries. To learn more about lagnchain's embedding support, visit: https://python.langchain.com/docs/integrations/text_embedding/"
   ]
  },
  {
   "cell_type": "code",
   "execution_count": 30,
   "id": "4a222122",
   "metadata": {},
   "outputs": [
    {
     "name": "stdout",
     "output_type": "stream",
     "text": [
      "8448\n"
     ]
    }
   ],
   "source": [
    "\n",
    "embeddings = SentenceTransformerEmbeddings(model_name=\"thenlper/gte-small\")\n",
    "#embeddings = HuggingFaceEmbeddings(model_name=\"sentence-transformers/all-mpnet-base-v2\")\n",
    "\n",
    "embedding_vector = []\n",
    "for chunk in chunks:\n",
    "    embedding_vector = embedding_vector + embeddings.embed_query(chunk)\n",
    "\n",
    "# Embed the sentence \"Hello world! and store it in an embedding_vector.\n",
    "\n",
    "print(len(embedding_vector))"
   ]
  },
  {
   "cell_type": "markdown",
   "id": "cebdae3d",
   "metadata": {},
   "source": [
    "### 3.2 - Build a vector database\n",
    "\n",
    "Once we have embeddings, we need a way to store and search them efficiently. A simple list wouldn’t scale well, especially when we have thousands of chunks and need to quickly find the most relevant ones.\n",
    "\n",
    "To solve this, we use **FAISS**, an open-source similarity search library developed by Meta. FAISS is optimized for fast nearest-neighbor search in high-dimensional spaces, making it ideal for tasks like semantic retrieval and recommendation. It’s strongly encouraged to visit their quickstart guide to understand how FAISS works and how to use it effectively: https://github.com/facebookresearch/faiss/wiki/getting-started\n",
    "\n",
    "In this step, we’ll feed all our document embeddings into FAISS, which builds an in-memory vector index. This index allows us to efficiently query for the *k* most similar chunks to any given question.\n",
    "\n",
    "During inference, we’ll use this index to retrieve the top-k relevant chunks and pass them to the LLM as context, enabling it to answer questions grounded in our documents.\n",
    "\n"
   ]
  },
  {
   "cell_type": "code",
   "execution_count": 32,
   "id": "611eda64",
   "metadata": {},
   "outputs": [
    {
     "name": "stdout",
     "output_type": "stream",
     "text": [
      "[('FAQs', -0.0078589441254735), ('Which  payment  methods  do  you  accept?   Visa,  MasterCard,  AmEx,  Discover,  Apple  Pay,', -0.023621583357453346), ('Apple  Pay,  Google  Pay,  PayPal,  Shop  Pay.  Installments  (US', 0.00400113919749856), ('only),\\n \\nKlarna\\n \\nPay-in-4\\n \\n(selected\\n \\nE', -0.020261524245142937), ('Everstorm  Outfitters    PRODUCT  SIZING  &  CARE  GUIDE    Rev  2.1  —  18  May  2025   A\\u2002Apparel', 0.01210617832839489), ('2025   A\\u2002Apparel  Size  Charts  (inches)   |  Unisex  Tee  |  Chest  |  Body  Length  |', 0.04797815904021263), ('|  Body  Length  |  |------------|-------|-------', 0.07535956054925919), ('|-----------|------|-----|------|-------|  |  Merino  base  layer  |  Cold  gentle,  wool-safe', 0.023075206205248833), ('gentle,  wool-safe  detergent  |  Flat  dry  |  Low  |  Avoid  fabric  softener  |  |  DWR  shell', -0.028494764119386673), ('|  |  DWR  shell  |  Machine  cold,  no  po', -0.0015429912600666285), ('Everstorm  Outfitters    RETURN  &  EXCHANGE  POLICY    Document  ROX-2025-05   Easy-Fit  Promise', 0.006004209164530039), ('Promise    If  your  gear  doesn’t  fit  or  just  isn’t  your  vibe,  send  it  back  within', -0.07958562672138214), ('it  back  within  **30  days**  o', 0.004231851082295179), ('Gifts  return  for  **store  credit**  emailed  to  the  recipient;  original  purchaser  is  not', 0.02858749032020569), ('purchaser  is  not  notified.   International  Returns    ●  Label  cost  is  deducted  from', 0.03888735547661781), ('is  deducted  from  refund  (approx.  $15–$25).', -0.021089408546686172), ('Everstorm  Outfitters    SHIPPING  &  DELIVERY  POLICY    Revision  4.0  —  Effective  18  May  2025', 0.0019328062189742923), ('18  May  2025   1\\u2002Who  We  Ship  To    •  United  States,  Canada,  EU/EEA,  UK,  Australia,  New', -0.020107056945562363), ('Australia,  New  Zealand,  Japa', -0.04770054668188095), ('8\\u2002Lost,  Stolen,  or  Damaged  Parcels    a)  Marked  “Delivered”  but  not  received  →  wait  24', 0.08431828767061234), ('→  wait  24  h;  check  neighbors;  then  email  claims@everstorm.example.    b)  No  tracking', -0.003494541859254241), ('b)  No  tracking  movement  for  7', -0.008894241414964199)]\n"
     ]
    },
    {
     "ename": "TypeError",
     "evalue": "object of type 'float' has no len()",
     "output_type": "error",
     "traceback": [
      "\u001b[31m---------------------------------------------------------------------------\u001b[39m",
      "\u001b[31mTypeError\u001b[39m                                 Traceback (most recent call last)",
      "\u001b[36mCell\u001b[39m\u001b[36m \u001b[39m\u001b[32mIn[32]\u001b[39m\u001b[32m, line 10\u001b[39m\n\u001b[32m      8\u001b[39m text_embedding_pairs = \u001b[38;5;28mlist\u001b[39m(\u001b[38;5;28mzip\u001b[39m(chunks, embedding_vector))\n\u001b[32m      9\u001b[39m \u001b[38;5;28mprint\u001b[39m(text_embedding_pairs)\n\u001b[32m---> \u001b[39m\u001b[32m10\u001b[39m vectordb = \u001b[43mFAISS\u001b[49m\u001b[43m.\u001b[49m\u001b[43mfrom_embeddings\u001b[49m\u001b[43m(\u001b[49m\n\u001b[32m     11\u001b[39m \u001b[43m    \u001b[49m\u001b[43mtext_embeddings\u001b[49m\u001b[43m=\u001b[49m\u001b[43mtext_embedding_pairs\u001b[49m\u001b[43m,\u001b[49m\n\u001b[32m     12\u001b[39m \u001b[43m    \u001b[49m\u001b[43membedding\u001b[49m\u001b[43m=\u001b[49m\u001b[43membeddings\u001b[49m\n\u001b[32m     13\u001b[39m \u001b[43m)\u001b[49m\n\u001b[32m     16\u001b[39m \u001b[38;5;66;03m#print(\"✅ Vector store with\", vectordb.index.ntotal, \"embeddings\")\u001b[39;00m\n",
      "\u001b[36mFile \u001b[39m\u001b[32m~\\.conda\\envs\\rag-chatbot\\Lib\\site-packages\\langchain_community\\vectorstores\\faiss.py:1120\u001b[39m, in \u001b[36mFAISS.from_embeddings\u001b[39m\u001b[34m(cls, text_embeddings, embedding, metadatas, ids, **kwargs)\u001b[39m\n\u001b[32m   1099\u001b[39m \u001b[38;5;250m\u001b[39m\u001b[33;03m\"\"\"Construct FAISS wrapper from raw documents.\u001b[39;00m\n\u001b[32m   1100\u001b[39m \n\u001b[32m   1101\u001b[39m \u001b[33;03mThis is a user friendly interface that:\u001b[39;00m\n\u001b[32m   (...)\u001b[39m\u001b[32m   1117\u001b[39m \u001b[33;03m        faiss = FAISS.from_embeddings(text_embedding_pairs, embeddings)\u001b[39;00m\n\u001b[32m   1118\u001b[39m \u001b[33;03m\"\"\"\u001b[39;00m\n\u001b[32m   1119\u001b[39m texts, embeddings = \u001b[38;5;28mzip\u001b[39m(*text_embeddings)\n\u001b[32m-> \u001b[39m\u001b[32m1120\u001b[39m \u001b[38;5;28;01mreturn\u001b[39;00m \u001b[38;5;28;43mcls\u001b[39;49m\u001b[43m.\u001b[49m\u001b[43m__from\u001b[49m\u001b[43m(\u001b[49m\n\u001b[32m   1121\u001b[39m \u001b[43m    \u001b[49m\u001b[38;5;28;43mlist\u001b[39;49m\u001b[43m(\u001b[49m\u001b[43mtexts\u001b[49m\u001b[43m)\u001b[49m\u001b[43m,\u001b[49m\n\u001b[32m   1122\u001b[39m \u001b[43m    \u001b[49m\u001b[38;5;28;43mlist\u001b[39;49m\u001b[43m(\u001b[49m\u001b[43membeddings\u001b[49m\u001b[43m)\u001b[49m\u001b[43m,\u001b[49m\n\u001b[32m   1123\u001b[39m \u001b[43m    \u001b[49m\u001b[43membedding\u001b[49m\u001b[43m,\u001b[49m\n\u001b[32m   1124\u001b[39m \u001b[43m    \u001b[49m\u001b[43mmetadatas\u001b[49m\u001b[43m=\u001b[49m\u001b[43mmetadatas\u001b[49m\u001b[43m,\u001b[49m\n\u001b[32m   1125\u001b[39m \u001b[43m    \u001b[49m\u001b[43mids\u001b[49m\u001b[43m=\u001b[49m\u001b[43mids\u001b[49m\u001b[43m,\u001b[49m\n\u001b[32m   1126\u001b[39m \u001b[43m    \u001b[49m\u001b[43m*\u001b[49m\u001b[43m*\u001b[49m\u001b[43mkwargs\u001b[49m\u001b[43m,\u001b[49m\n\u001b[32m   1127\u001b[39m \u001b[43m\u001b[49m\u001b[43m)\u001b[49m\n",
      "\u001b[36mFile \u001b[39m\u001b[32m~\\.conda\\envs\\rag-chatbot\\Lib\\site-packages\\langchain_community\\vectorstores\\faiss.py:1001\u001b[39m, in \u001b[36mFAISS.__from\u001b[39m\u001b[34m(cls, texts, embeddings, embedding, metadatas, ids, normalize_L2, distance_strategy, **kwargs)\u001b[39m\n\u001b[32m    998\u001b[39m     index = faiss.IndexFlatIP(\u001b[38;5;28mlen\u001b[39m(embeddings[\u001b[32m0\u001b[39m]))\n\u001b[32m    999\u001b[39m \u001b[38;5;28;01melse\u001b[39;00m:\n\u001b[32m   1000\u001b[39m     \u001b[38;5;66;03m# Default to L2, currently other metric types not initialized.\u001b[39;00m\n\u001b[32m-> \u001b[39m\u001b[32m1001\u001b[39m     index = faiss.IndexFlatL2(\u001b[38;5;28mlen\u001b[39m(embeddings[\u001b[32m0\u001b[39m]))\n\u001b[32m   1002\u001b[39m docstore = kwargs.pop(\u001b[33m\"\u001b[39m\u001b[33mdocstore\u001b[39m\u001b[33m\"\u001b[39m, InMemoryDocstore())\n\u001b[32m   1003\u001b[39m index_to_docstore_id = kwargs.pop(\u001b[33m\"\u001b[39m\u001b[33mindex_to_docstore_id\u001b[39m\u001b[33m\"\u001b[39m, {})\n",
      "\u001b[31mTypeError\u001b[39m: object of type 'float' has no len()"
     ]
    }
   ],
   "source": [
    "# Expected steps:\n",
    "    # 1. Build the FAISS index from the list of document chunks and their embeddings.\n",
    "    # 2. Create a retriever object with a suitable k value (e.g., 8).\n",
    "    # 3. Save the vector store locally (e.g., under \"faiss_index\").\n",
    "    # 4. Print a short confirmation showing how many embeddings were stored.\n",
    "\n",
    "    # Create a FAISS vector store from the documents and embeddings\n",
    "text_embedding_pairs = list(zip(chunks, embedding_vector))\n",
    "print(text_embedding_pairs)\n",
    "vectordb = FAISS.from_embeddings(\n",
    "    text_embeddings=text_embedding_pairs,\n",
    "    embedding=embeddings\n",
    ")\n",
    "\n",
    "\n",
    "#print(\"✅ Vector store with\", vectordb.index.ntotal, \"embeddings\")"
   ]
  },
  {
   "cell_type": "markdown",
   "id": "c456f820",
   "metadata": {},
   "source": [
    "## 4 - Build the generation engine\n",
    "At the core of any RAG system lies an **LLM**. The retriever finds relevant information, and the LLM uses that information to generate coherent, context-aware responses.\n",
    "\n",
    "In this project, we’ll use **Gemma 3* (1B), a small but capable open-weight model, and run it entirely on your local machine using Ollama. This means you won’t need API keys or internet access to generate responses once the model is downloaded.\n",
    "\n",
    "**What is Ollama?**\n",
    "\n",
    "Ollama is a lightweight runtime for managing and serving open-weight LLMs locally. It provides:\n",
    "* A simple REST API running at localhost:11434, so your code can interact with the model via standard HTTP calls.\n",
    "* A model registry and command-line tool** to pull, run, and manage models easily.\n",
    "* Support for a wide variety of models (e.g., Gemma, Llama, Mistral, Phi, etc.), making it ideal for experimentation.\n",
    "\n",
    "To learn more about Ollama, visit: https://github.com/ollama/ollama. You can browse all supported models and their sizes here: https://ollama.com/library\n",
    "\n",
    "\n",
    "### 4.1 - Install `ollama` and serve `gemma3`\n",
    "\n",
    "Follow these steps to set up Ollama and start the model server:\n",
    "\n",
    "**1 - Install**\n",
    "```bash\n",
    "# macOS (Homebrew)\n",
    "brew install ollama\n",
    "# Linux\n",
    "curl -fsSL https://ollama.com/install.sh | sh\n",
    "```\n",
    "\n",
    "If you’re on Windows, install using the official installer from https://ollama.com/download.\n",
    "\n",
    "**2 - Start the Ollama server (keep this terminal open)**\n",
    "```bash\n",
    "ollama serve\n",
    "```\n",
    "This command launches a local server at http://localhost:11434, which will stay running in the background.\n",
    "\n",
    "\n",
    "**3 - Pull the Gemma mode (or the model of your choice) in a new terminal**\n",
    "```bash\n",
    "ollama pull gemma3:1b\n",
    "```\n",
    "\n",
    "This downloads the 1B version of Gemma 3, a compact model suitable for running on most modern laptops. Once downloaded, Ollama will automatically handle model loading and caching.\n",
    "\n",
    "\n",
    "After this setup, your system is ready to generate responses locally using the Gemma model through the Ollama API.\n"
   ]
  },
  {
   "cell_type": "markdown",
   "id": "bba7e203",
   "metadata": {},
   "source": [
    "### 4.2 - Test an LLM with a random prompt (Sanity check)\n"
   ]
  },
  {
   "cell_type": "code",
   "execution_count": 9,
   "id": "b1d34a32",
   "metadata": {},
   "outputs": [
    {
     "name": "stdout",
     "output_type": "stream",
     "text": [
      "Okay, let's break down quantum computing in a way that’s understandable without getting bogged down in complex math. Here’s the core concept, simplified:\n",
      "\n",
      "**1. Regular Computers (Classical Computers) Work Like… Switches**\n",
      "\n",
      "* **Bits:** Traditional computers, like the one you're using now, use \"bits.\" A bit is like a light switch – it can be either on (1) or off (0).  Everything a computer does – from playing games to running spreadsheets – is ultimately based on manipulating these bits.\n",
      "\n",
      "**2. Quantum Computers Work Like… Waves**\n",
      "\n",
      "* **Qub\n"
     ]
    }
   ],
   "source": [
    "# Expected steps:\n",
    "    # 1. Initialize the model (for example, gemma3:1b) with a low temperature such as 0.1 for more factual outputs.\n",
    "    # 2. Use llm.invoke() with a short test prompt and print the response to verify that the model runs successfully.\n",
    "\n",
    "# Initialize the Ollama LLM\n",
    "llm = Ollama(\n",
    "    model=\"gemma3:1b\",\n",
    "    temperature=0.8,        # Controls creativity (0.0 to 1.0)\n",
    "    num_predict= 128,       # Maximum number of tokens to generate\n",
    "    top_k=40,               # Diversity of output\n",
    "    top_p=0.9,              # Focus of the output\n",
    "    repeat_penalty=1.1      # Penalty for repetition\n",
    ")\n",
    "\n",
    "# Invoke the model with a prompt\n",
    "response = llm.invoke(\"Explain quantum computing in simple terms\")\n",
    "print(response)"
   ]
  },
  {
   "cell_type": "markdown",
   "id": "6556263d",
   "metadata": {},
   "source": [
    "## Build a RAG"
   ]
  },
  {
   "cell_type": "markdown",
   "id": "3dbfec15",
   "metadata": {},
   "source": [
    "### 5.1 - Define a system prompt"
   ]
  },
  {
   "cell_type": "markdown",
   "id": "66b5c84b",
   "metadata": {},
   "source": [
    "At this stage, we need to tell the model how to behave when generating answers. The **system prompt** acts as the model’s rulebook. It should clearly instruct the model to answer only using the retrieved context and to admit when it doesn’t know the answer. This helps prevent hallucination and keeps the responses grounded in the provided documents.\n",
    "\n",
    "In general, a good RAG prompt emphasizes three things: stay within context, stay factual, and stay concise. This is important because RAG works by grounding the LLM in retrieved text. If the prompt is vague, the model may invent details. A precise system prompt reduces hallucinations and keeps answers aligned with your corpus."
   ]
  },
  {
   "cell_type": "code",
   "execution_count": 15,
   "id": "dcecb2b6",
   "metadata": {},
   "outputs": [],
   "source": [
    "SYSTEM_TEMPLATE = \"\"\"\n",
    "You are a **Customer Support Chatbot**. Use only the information in CONTEXT to answer.\n",
    "If the answer is not in CONTEXT, respond with “I'm not sure from the docs.”\n",
    "\n",
    "Rules:\n",
    "1) Use ONLY the provided <context> to answer.\n",
    "2) If the answer is not in the context, say: \"I don't know based on the retrieved documents.\"\n",
    "3) Be concise and accurate. Prefer quoting key phrases from the context.\n",
    "4) When possible, cite sources as [source: {source}] using the metadata.\n",
    "\n",
    "CONTEXT:\n",
    "{context}\n",
    "\n",
    "USER:\n",
    "{question}\n",
    "\"\"\""
   ]
  },
  {
   "cell_type": "markdown",
   "id": "de27cc9a",
   "metadata": {},
   "source": [
    "### 5.2 Create a RAG chain\n",
    "Now that we have a retriever, a prompt, and a language model, we can connect them into a single RAG pipeline. The retriever finds the most relevant chunks from our vector index, the prompt injects those chunks into the system message, and the LLM uses that context to produce the final answer. (retriever → prompt → model)\n",
    "\n",
    "This connection is handled through LangChain’s `ConversationalRetrievalChain`, which combines retrieval and generation. To familiarize yourself with the library, visit: https://python.langchain.com/api_reference/langchain/chains/langchain.chains.conversational_retrieval.base.ConversationalRetrievalChain.html"
   ]
  },
  {
   "cell_type": "code",
   "execution_count": 23,
   "id": "0b138b3d",
   "metadata": {},
   "outputs": [
    {
     "name": "stdout",
     "output_type": "stream",
     "text": [
      "✅ Step 1: PromptTemplate created successfully.\n",
      "✅ Step 2: Ollama LLM initialized successfully.\n",
      "✅ Prerequisite: Retriever created successfully.\n",
      "✅ Step 3: ConversationalRetrievalChain created successfully.\n",
      "\n",
      "--- Testing RAG Chain ---\n",
      "🤔 Question: What was the name of the first mammal in space?\n",
      "🤖 Answer: Laika.\n",
      "\n",
      "🤔 Question: Where is the capital of California located?\n",
      "🤖 Answer: Sacramento.\n",
      "\n",
      "🤔 Question: What species was it?\n",
      "🤖 Answer: Laika was a dog.\n",
      "\n"
     ]
    }
   ],
   "source": [
    "# Expected steps:\n",
    "    # 1. Create a PromptTemplate that uses the SYSTEM_TEMPLATE you defined earlier, with input variables for \"context\" and \"question\".\n",
    "    # 2. Initialize your LLM using Ollama with the gemma3:1b model and a low temperature (e.g., 0.1) for reliable, grounded responses.\n",
    "    # 3. Build a ConversationalRetrievalChain by combining the LLM, the retriever, and your custom prompt and name it \"chain\".\n",
    "\n",
    "from langchain.docstore.document import Document\n",
    "from langchain.memory import ConversationBufferMemory\n",
    "SYSTEM_TEMPLATE = \"\"\"\n",
    "You are a **Customer Support Chatbot**. Use only the information in CONTEXT to answer.\n",
    "If the answer is not in CONTEXT, respond with “I'm not sure from the docs.”\n",
    "\n",
    "Rules:\n",
    "1) Use ONLY the provided <context> to answer.\n",
    "2) If the answer is not in the context, say: \"I don't know based on the retrieved documents.\"\n",
    "3) Be concise and accurate. Prefer quoting key phrases from the context.\n",
    "\n",
    "Context: {context}\n",
    "\n",
    "User's Question: {question}\n",
    "\"\"\"\n",
    "\n",
    "\n",
    "# --- Prerequisite: Set up a simple Retriever ---\n",
    "# A RAG chain needs a source for its context. We'll create a dummy one.\n",
    "# In a real application, you would load your documents from files.\n",
    "def get_retriever():\n",
    "    \"\"\"Creates a simple FAISS vector store and retriever from dummy documents.\"\"\"\n",
    "    documents = [\n",
    "        Document(page_content=\"The first mammal to go to space was a dog named Laika.\"),\n",
    "        Document(page_content=\"The Apollo 11 mission was the first to land humans on the Moon in 1969.\"),\n",
    "        Document(page_content=\"Venus is the hottest planet in our solar system.\"),\n",
    "        Document(page_content=\"The capital of California is Sacramento.\")\n",
    "    ]\n",
    "    \n",
    "    # Use a sentence transformer model to create embeddings\n",
    "    embeddings = SentenceTransformerEmbeddings(model_name=\"all-MiniLM-L6-v2\")\n",
    "    \n",
    "    # Create a FAISS vector store from the documents and embeddings\n",
    "    vector_store = FAISS.from_documents(documents, embeddings)\n",
    "    \n",
    "    # Create and return the retriever\n",
    "    return vector_store.as_retriever(search_kwargs={\"k\": 1}) # 'k' specifies how many docs to retrieve\n",
    "\n",
    "# --- Main script ---\n",
    "if __name__ == '__main__':\n",
    "\n",
    "    # 1. Create a PromptTemplate\n",
    "    # This uses the SYSTEM_TEMPLATE and specifies the input variables.\n",
    "    prompt = PromptTemplate(template=SYSTEM_TEMPLATE, input_variables=[\"context\", \"question\"])\n",
    "    print(\"✅ Step 1: PromptTemplate created successfully.\")\n",
    "\n",
    "    # 2. Initialize your LLM\n",
    "    # We use Ollama with the gemma:2b model and a low temperature for factual responses.\n",
    "    llm = Ollama(model=\"gemma3:1b\", temperature=0.1)\n",
    "    print(\"✅ Step 2: Ollama LLM initialized successfully.\")\n",
    "\n",
    "    # Get the retriever we defined earlier\n",
    "    retriever = get_retriever()\n",
    "    print(\"✅ Prerequisite: Retriever created successfully.\")\n",
    "\n",
    "    # Add memory to the chain to handle chat history\n",
    "    memory = ConversationBufferMemory(memory_key=\"chat_history\", return_messages=True)\n",
    "\n",
    "    # 3. Build a ConversationalRetrievalChain\n",
    "    # This chain combines the retriever, the LLM, and the prompt.\n",
    "    chain = ConversationalRetrievalChain.from_llm(\n",
    "        llm=llm,\n",
    "        retriever=retriever,\n",
    "        memory=memory,\n",
    "        combine_docs_chain_kwargs={\"prompt\": prompt},\n",
    "        verbose=False # Set to True to see detailed chain logs\n",
    "    )\n",
    "    print(\"✅ Step 3: ConversationalRetrievalChain created successfully.\\n\")\n",
    "\n",
    "    # --- Now, let's test the chain ---\n",
    "    print(\"--- Testing RAG Chain ---\")\n",
    "    \n",
    "    # First question\n",
    "    question1 = \"What was the name of the first mammal in space?\"\n",
    "    result1 = chain.invoke({\"question\": question1})\n",
    "    print(f\"🤔 Question: {question1}\")\n",
    "    print(f\"🤖 Answer: {result1['answer'].strip()}\\n\")\n",
    "\n",
    "    # Second question (testing memory and retrieval for a different topic)\n",
    "    question2 = \"Where is the capital of California located?\"\n",
    "    result2 = chain.invoke({\"question\": question2})\n",
    "    print(f\"🤔 Question: {question2}\")\n",
    "    print(f\"🤖 Answer: {result2['answer'].strip()}\\n\")\n",
    "\n",
    "    # Third question (will likely use context from the first question)\n",
    "    question3 = \"What species was it?\"\n",
    "    result3 = chain.invoke({\"question\": question3})\n",
    "    print(f\"🤔 Question: {question3}\")\n",
    "    print(f\"🤖 Answer: {result3['answer'].strip()}\\n\")\n"
   ]
  },
  {
   "cell_type": "markdown",
   "id": "64a6c7fc",
   "metadata": {},
   "source": [
    "When you ask a question, the retriever pulls the top few relevant text chunks, the model reads them through the system prompt, and then it generates an answer based on that context.\n",
    "\n",
    "This structure makes the system transparent and easy to debug. You can inspect what text was retrieved, tune parameters like k, and experiment with different prompts to see how they affect the output quality.\n"
   ]
  },
  {
   "cell_type": "markdown",
   "id": "6c1eb44d",
   "metadata": {},
   "source": [
    "### 5.3 - Validate the RAG chain"
   ]
  },
  {
   "cell_type": "markdown",
   "id": "e5ee50de",
   "metadata": {},
   "source": [
    "We run a few questions to make sure everything behaves as expecte. Experiment by adding you own questions."
   ]
  },
  {
   "cell_type": "code",
   "execution_count": null,
   "id": "8f6d7a7d",
   "metadata": {},
   "outputs": [],
   "source": [
    "test_questions = [\n",
    "    \"If I'm not happy with my purchase, what is your refund policy and how do I start a return?\",\n",
    "    \"How long will delivery take for a standard order, and where can I track my package once it ships?\",\n",
    "    \"What's the quickest way to contact your support team, and what are your operating hours?\",\n",
    "]\n",
    "\n",
    "# Expected steps:\n",
    "    # 1. Initialize an empty chat_history list.\n",
    "    # 2. Loop through test_questions, pass each question and the current chat history to the chain, and append the new answer.\n",
    "    # 3. Print each question and the LLM's response to verify it’s working correctly.\n",
    "\n",
    "\"\"\"\n",
    "YOUR CODE HERE\n",
    "\"\"\""
   ]
  },
  {
   "cell_type": "markdown",
   "id": "86f8c6b4",
   "metadata": {},
   "source": [
    "### 6 - Build the Streamlit UI (optional)"
   ]
  },
  {
   "cell_type": "markdown",
   "id": "eecc640b",
   "metadata": {},
   "source": [
    "The goal here is to create a tiny demo so you can interact with your RAG system. The focus is not on UI design. We will build a very small interface only to demonstrate the end-to-end flow.\n",
    "\n",
    "There are many ways to make a UI. Some frameworks are powerful but take longer to set up, while others are simple and good for quick experiments. Streamlit is a common choice for fast prototyping because it lets you make a usable interface with only a few lines of Python. If you want to learn the basics, see the Streamlit Quickstart: https://docs.streamlit.io/deploy/streamlit-community-cloud/get-started/quickstart\n",
    "\n",
    "This step is optional. If it is not useful for your work, you can skip it. We will also complete this part together during the live session.\n",
    "\n",
    "In this cell, we write a minimal **`app.py`** that starts a simple chat UI and calls your RAG chain."
   ]
  },
  {
   "cell_type": "code",
   "execution_count": null,
   "id": "c182fb86",
   "metadata": {},
   "outputs": [],
   "source": [
    "\"\"\"\n",
    "YOUR CODE HERE\n",
    "\"\"\""
   ]
  },
  {
   "cell_type": "markdown",
   "id": "04dc8ad3",
   "metadata": {},
   "source": [
    "Run `streamlit run app.py` from your terminal."
   ]
  },
  {
   "cell_type": "markdown",
   "id": "2a7328a5",
   "metadata": {},
   "source": [
    "## 🎉 Congratulations!\n",
    "\n",
    "You’ve just built, tested, and demoed a fully working **customer-support chatbot**.  \n",
    "In one project you:\n",
    "\n",
    "* **Prepared policy docs**: loaded and chunked them for fast retrieval.  \n",
    "* **Built a vector store**: created a FAISS index with text embeddings.  \n",
    "* **Plugged in an LLM**: wrapped Gemma3 with LangChain and a prompt-aware RAG chain.  \n",
    "* **Validated end-to-end**: answered refund, shipping, and contact questions with confidence.  \n",
    "\n",
    "Swap in new documents, tweak the prompt, and your store’s customers get instant, accurate answers.\n",
    "\n",
    "👏 **Great job!** Take a moment to celebrate. The skills you used here power most RAG-based chatbots you see everywhere.\n"
   ]
  },
  {
   "cell_type": "markdown",
   "id": "929eabbd",
   "metadata": {},
   "source": []
  }
 ],
 "metadata": {
  "kernelspec": {
   "display_name": "Python 3 (ipykernel)",
   "language": "python",
   "name": "python3"
  },
  "language_info": {
   "codemirror_mode": {
    "name": "ipython",
    "version": 3
   },
   "file_extension": ".py",
   "mimetype": "text/x-python",
   "name": "python",
   "nbconvert_exporter": "python",
   "pygments_lexer": "ipython3",
   "version": "3.11.14"
  }
 },
 "nbformat": 4,
 "nbformat_minor": 5
}
